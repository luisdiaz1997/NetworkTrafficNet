{
 "cells": [
  {
   "cell_type": "code",
   "execution_count": 1,
   "id": "c211ce76",
   "metadata": {},
   "outputs": [],
   "source": [
    "from scipy.io import arff\n",
    "import pandas as pd\n",
    "import matplotlib.pyplot as plt\n",
    "import matplotlib.colors as colors\n",
    "import matplotlib.cm as cmx\n",
    "from tensorflow.keras.models import Sequential, Model\n",
    "from tensorflow.keras.layers import Dense, BatchNormalization, Input\n",
    "from tensorflow.keras import layers\n",
    "import tensorflow as tf\n",
    "import tensorflow.keras.backend as K\n",
    "from tensorflow.keras.models import load_model\n",
    "from scipy import stats\n",
    "import numpy as np"
   ]
  },
  {
   "cell_type": "code",
   "execution_count": 2,
   "id": "906fee8c",
   "metadata": {},
   "outputs": [
    {
     "data": {
      "text/html": [
       "<div>\n",
       "<style scoped>\n",
       "    .dataframe tbody tr th:only-of-type {\n",
       "        vertical-align: middle;\n",
       "    }\n",
       "\n",
       "    .dataframe tbody tr th {\n",
       "        vertical-align: top;\n",
       "    }\n",
       "\n",
       "    .dataframe thead th {\n",
       "        text-align: right;\n",
       "    }\n",
       "</style>\n",
       "<table border=\"1\" class=\"dataframe\">\n",
       "  <thead>\n",
       "    <tr style=\"text-align: right;\">\n",
       "      <th></th>\n",
       "      <th>duration</th>\n",
       "      <th>total_fiat</th>\n",
       "      <th>total_biat</th>\n",
       "      <th>min_fiat</th>\n",
       "      <th>min_biat</th>\n",
       "      <th>max_fiat</th>\n",
       "      <th>max_biat</th>\n",
       "      <th>mean_fiat</th>\n",
       "      <th>mean_biat</th>\n",
       "      <th>flowPktsPerSecond</th>\n",
       "      <th>...</th>\n",
       "      <th>std_flowiat</th>\n",
       "      <th>min_active</th>\n",
       "      <th>mean_active</th>\n",
       "      <th>max_active</th>\n",
       "      <th>std_active</th>\n",
       "      <th>min_idle</th>\n",
       "      <th>mean_idle</th>\n",
       "      <th>max_idle</th>\n",
       "      <th>std_idle</th>\n",
       "      <th>class1</th>\n",
       "    </tr>\n",
       "  </thead>\n",
       "  <tbody>\n",
       "    <tr>\n",
       "      <th>0</th>\n",
       "      <td>9368711.0</td>\n",
       "      <td>16.0</td>\n",
       "      <td>4.0</td>\n",
       "      <td>1564818.0</td>\n",
       "      <td>1549373.0</td>\n",
       "      <td>190205.285714</td>\n",
       "      <td>203290.456522</td>\n",
       "      <td>389822.391917</td>\n",
       "      <td>370323.719754</td>\n",
       "      <td>10.353612</td>\n",
       "      <td>...</td>\n",
       "      <td>267600.198443</td>\n",
       "      <td>1871488.0</td>\n",
       "      <td>1.983656e+06</td>\n",
       "      <td>2195089.0</td>\n",
       "      <td>1.832197e+05</td>\n",
       "      <td>1234883.0</td>\n",
       "      <td>1420565.0</td>\n",
       "      <td>1523088.0</td>\n",
       "      <td>161096.539275</td>\n",
       "      <td>b'CHAT'</td>\n",
       "    </tr>\n",
       "    <tr>\n",
       "      <th>1</th>\n",
       "      <td>7340238.0</td>\n",
       "      <td>18.0</td>\n",
       "      <td>4.0</td>\n",
       "      <td>1567554.0</td>\n",
       "      <td>1527893.0</td>\n",
       "      <td>165686.977273</td>\n",
       "      <td>186914.846154</td>\n",
       "      <td>317267.548742</td>\n",
       "      <td>304370.651301</td>\n",
       "      <td>11.580006</td>\n",
       "      <td>...</td>\n",
       "      <td>221462.862028</td>\n",
       "      <td>1491627.0</td>\n",
       "      <td>3.572433e+06</td>\n",
       "      <td>5653239.0</td>\n",
       "      <td>2.942704e+06</td>\n",
       "      <td>1131498.0</td>\n",
       "      <td>1324636.0</td>\n",
       "      <td>1517774.0</td>\n",
       "      <td>273138.379008</td>\n",
       "      <td>b'CHAT'</td>\n",
       "    </tr>\n",
       "    <tr>\n",
       "      <th>2</th>\n",
       "      <td>4644225.0</td>\n",
       "      <td>29.0</td>\n",
       "      <td>15.0</td>\n",
       "      <td>1270547.0</td>\n",
       "      <td>1079974.0</td>\n",
       "      <td>165865.178571</td>\n",
       "      <td>195302.130435</td>\n",
       "      <td>329473.126261</td>\n",
       "      <td>300492.588227</td>\n",
       "      <td>11.412022</td>\n",
       "      <td>...</td>\n",
       "      <td>217475.425246</td>\n",
       "      <td>1758922.0</td>\n",
       "      <td>1.758922e+06</td>\n",
       "      <td>1758922.0</td>\n",
       "      <td>0.000000e+00</td>\n",
       "      <td>1079974.0</td>\n",
       "      <td>1079974.0</td>\n",
       "      <td>1079974.0</td>\n",
       "      <td>0.000000</td>\n",
       "      <td>b'CHAT'</td>\n",
       "    </tr>\n",
       "    <tr>\n",
       "      <th>3</th>\n",
       "      <td>4978735.0</td>\n",
       "      <td>19.0</td>\n",
       "      <td>8.0</td>\n",
       "      <td>2492050.0</td>\n",
       "      <td>2457286.0</td>\n",
       "      <td>239543.250000</td>\n",
       "      <td>276596.388889</td>\n",
       "      <td>612435.304238</td>\n",
       "      <td>628339.573544</td>\n",
       "      <td>8.034169</td>\n",
       "      <td>...</td>\n",
       "      <td>436959.716436</td>\n",
       "      <td>1710925.0</td>\n",
       "      <td>2.382905e+06</td>\n",
       "      <td>3054885.0</td>\n",
       "      <td>9.503232e+05</td>\n",
       "      <td>1346073.0</td>\n",
       "      <td>1894031.5</td>\n",
       "      <td>2441990.0</td>\n",
       "      <td>774930.342317</td>\n",
       "      <td>b'CHAT'</td>\n",
       "    </tr>\n",
       "    <tr>\n",
       "      <th>4</th>\n",
       "      <td>11838189.0</td>\n",
       "      <td>19.0</td>\n",
       "      <td>10.0</td>\n",
       "      <td>3094089.0</td>\n",
       "      <td>3093543.0</td>\n",
       "      <td>243766.500000</td>\n",
       "      <td>295954.725000</td>\n",
       "      <td>599721.781709</td>\n",
       "      <td>625632.703972</td>\n",
       "      <td>7.602514</td>\n",
       "      <td>...</td>\n",
       "      <td>436129.639296</td>\n",
       "      <td>1747431.0</td>\n",
       "      <td>2.400446e+06</td>\n",
       "      <td>3240696.0</td>\n",
       "      <td>6.232744e+05</td>\n",
       "      <td>1394455.0</td>\n",
       "      <td>1983227.0</td>\n",
       "      <td>3042717.0</td>\n",
       "      <td>725987.829075</td>\n",
       "      <td>b'CHAT'</td>\n",
       "    </tr>\n",
       "  </tbody>\n",
       "</table>\n",
       "<p>5 rows × 24 columns</p>\n",
       "</div>"
      ],
      "text/plain": [
       "     duration  total_fiat  total_biat   min_fiat   min_biat       max_fiat  \\\n",
       "0   9368711.0        16.0         4.0  1564818.0  1549373.0  190205.285714   \n",
       "1   7340238.0        18.0         4.0  1567554.0  1527893.0  165686.977273   \n",
       "2   4644225.0        29.0        15.0  1270547.0  1079974.0  165865.178571   \n",
       "3   4978735.0        19.0         8.0  2492050.0  2457286.0  239543.250000   \n",
       "4  11838189.0        19.0        10.0  3094089.0  3093543.0  243766.500000   \n",
       "\n",
       "        max_biat      mean_fiat      mean_biat  flowPktsPerSecond  ...  \\\n",
       "0  203290.456522  389822.391917  370323.719754          10.353612  ...   \n",
       "1  186914.846154  317267.548742  304370.651301          11.580006  ...   \n",
       "2  195302.130435  329473.126261  300492.588227          11.412022  ...   \n",
       "3  276596.388889  612435.304238  628339.573544           8.034169  ...   \n",
       "4  295954.725000  599721.781709  625632.703972           7.602514  ...   \n",
       "\n",
       "     std_flowiat  min_active   mean_active  max_active    std_active  \\\n",
       "0  267600.198443   1871488.0  1.983656e+06   2195089.0  1.832197e+05   \n",
       "1  221462.862028   1491627.0  3.572433e+06   5653239.0  2.942704e+06   \n",
       "2  217475.425246   1758922.0  1.758922e+06   1758922.0  0.000000e+00   \n",
       "3  436959.716436   1710925.0  2.382905e+06   3054885.0  9.503232e+05   \n",
       "4  436129.639296   1747431.0  2.400446e+06   3240696.0  6.232744e+05   \n",
       "\n",
       "    min_idle  mean_idle   max_idle       std_idle   class1  \n",
       "0  1234883.0  1420565.0  1523088.0  161096.539275  b'CHAT'  \n",
       "1  1131498.0  1324636.0  1517774.0  273138.379008  b'CHAT'  \n",
       "2  1079974.0  1079974.0  1079974.0       0.000000  b'CHAT'  \n",
       "3  1346073.0  1894031.5  2441990.0  774930.342317  b'CHAT'  \n",
       "4  1394455.0  1983227.0  3042717.0  725987.829075  b'CHAT'  \n",
       "\n",
       "[5 rows x 24 columns]"
      ]
     },
     "execution_count": 2,
     "metadata": {},
     "output_type": "execute_result"
    }
   ],
   "source": [
    "arff_data = arff.loadarff('../data/TimeBasedFeatures-Dataset-15s.arff')\n",
    "df = pd.DataFrame(arff_data[0])\n",
    "df.head()"
   ]
  },
  {
   "cell_type": "code",
   "execution_count": 3,
   "id": "97415e61",
   "metadata": {},
   "outputs": [
    {
     "data": {
      "text/html": [
       "<div>\n",
       "<style scoped>\n",
       "    .dataframe tbody tr th:only-of-type {\n",
       "        vertical-align: middle;\n",
       "    }\n",
       "\n",
       "    .dataframe tbody tr th {\n",
       "        vertical-align: top;\n",
       "    }\n",
       "\n",
       "    .dataframe thead th {\n",
       "        text-align: right;\n",
       "    }\n",
       "</style>\n",
       "<table border=\"1\" class=\"dataframe\">\n",
       "  <thead>\n",
       "    <tr style=\"text-align: right;\">\n",
       "      <th></th>\n",
       "      <th>b'BROWSING'</th>\n",
       "      <th>b'CHAT'</th>\n",
       "      <th>b'FT'</th>\n",
       "      <th>b'MAIL'</th>\n",
       "      <th>b'P2P'</th>\n",
       "      <th>b'STREAMING'</th>\n",
       "      <th>b'VOIP'</th>\n",
       "      <th>b'VPN-BROWSING'</th>\n",
       "      <th>b'VPN-CHAT'</th>\n",
       "      <th>b'VPN-FT'</th>\n",
       "      <th>b'VPN-MAIL'</th>\n",
       "      <th>b'VPN-P2P'</th>\n",
       "      <th>b'VPN-STREAMING'</th>\n",
       "      <th>b'VPN-VOIP'</th>\n",
       "    </tr>\n",
       "  </thead>\n",
       "  <tbody>\n",
       "    <tr>\n",
       "      <th>0</th>\n",
       "      <td>0</td>\n",
       "      <td>1</td>\n",
       "      <td>0</td>\n",
       "      <td>0</td>\n",
       "      <td>0</td>\n",
       "      <td>0</td>\n",
       "      <td>0</td>\n",
       "      <td>0</td>\n",
       "      <td>0</td>\n",
       "      <td>0</td>\n",
       "      <td>0</td>\n",
       "      <td>0</td>\n",
       "      <td>0</td>\n",
       "      <td>0</td>\n",
       "    </tr>\n",
       "    <tr>\n",
       "      <th>1</th>\n",
       "      <td>0</td>\n",
       "      <td>1</td>\n",
       "      <td>0</td>\n",
       "      <td>0</td>\n",
       "      <td>0</td>\n",
       "      <td>0</td>\n",
       "      <td>0</td>\n",
       "      <td>0</td>\n",
       "      <td>0</td>\n",
       "      <td>0</td>\n",
       "      <td>0</td>\n",
       "      <td>0</td>\n",
       "      <td>0</td>\n",
       "      <td>0</td>\n",
       "    </tr>\n",
       "    <tr>\n",
       "      <th>2</th>\n",
       "      <td>0</td>\n",
       "      <td>1</td>\n",
       "      <td>0</td>\n",
       "      <td>0</td>\n",
       "      <td>0</td>\n",
       "      <td>0</td>\n",
       "      <td>0</td>\n",
       "      <td>0</td>\n",
       "      <td>0</td>\n",
       "      <td>0</td>\n",
       "      <td>0</td>\n",
       "      <td>0</td>\n",
       "      <td>0</td>\n",
       "      <td>0</td>\n",
       "    </tr>\n",
       "    <tr>\n",
       "      <th>3</th>\n",
       "      <td>0</td>\n",
       "      <td>1</td>\n",
       "      <td>0</td>\n",
       "      <td>0</td>\n",
       "      <td>0</td>\n",
       "      <td>0</td>\n",
       "      <td>0</td>\n",
       "      <td>0</td>\n",
       "      <td>0</td>\n",
       "      <td>0</td>\n",
       "      <td>0</td>\n",
       "      <td>0</td>\n",
       "      <td>0</td>\n",
       "      <td>0</td>\n",
       "    </tr>\n",
       "    <tr>\n",
       "      <th>4</th>\n",
       "      <td>0</td>\n",
       "      <td>1</td>\n",
       "      <td>0</td>\n",
       "      <td>0</td>\n",
       "      <td>0</td>\n",
       "      <td>0</td>\n",
       "      <td>0</td>\n",
       "      <td>0</td>\n",
       "      <td>0</td>\n",
       "      <td>0</td>\n",
       "      <td>0</td>\n",
       "      <td>0</td>\n",
       "      <td>0</td>\n",
       "      <td>0</td>\n",
       "    </tr>\n",
       "  </tbody>\n",
       "</table>\n",
       "</div>"
      ],
      "text/plain": [
       "   b'BROWSING'  b'CHAT'  b'FT'  b'MAIL'  b'P2P'  b'STREAMING'  b'VOIP'  \\\n",
       "0            0        1      0        0       0             0        0   \n",
       "1            0        1      0        0       0             0        0   \n",
       "2            0        1      0        0       0             0        0   \n",
       "3            0        1      0        0       0             0        0   \n",
       "4            0        1      0        0       0             0        0   \n",
       "\n",
       "   b'VPN-BROWSING'  b'VPN-CHAT'  b'VPN-FT'  b'VPN-MAIL'  b'VPN-P2P'  \\\n",
       "0                0            0          0            0           0   \n",
       "1                0            0          0            0           0   \n",
       "2                0            0          0            0           0   \n",
       "3                0            0          0            0           0   \n",
       "4                0            0          0            0           0   \n",
       "\n",
       "   b'VPN-STREAMING'  b'VPN-VOIP'  \n",
       "0                 0            0  \n",
       "1                 0            0  \n",
       "2                 0            0  \n",
       "3                 0            0  \n",
       "4                 0            0  "
      ]
     },
     "execution_count": 3,
     "metadata": {},
     "output_type": "execute_result"
    }
   ],
   "source": [
    "one_hot_labels = pd.get_dummies(df['class1'])\n",
    "one_hot_labels.head()"
   ]
  },
  {
   "cell_type": "code",
   "execution_count": 4,
   "id": "cd757c75",
   "metadata": {},
   "outputs": [],
   "source": [
    "mean = np.mean(df.iloc[:, :-1].values, axis=0, keepdims=True)\n",
    "std = np.std(df.iloc[:, :-1].values, axis=0, keepdims=True)"
   ]
  },
  {
   "cell_type": "code",
   "execution_count": 5,
   "id": "bed56264",
   "metadata": {},
   "outputs": [],
   "source": [
    "from sklearn.model_selection import train_test_split"
   ]
  },
  {
   "cell_type": "code",
   "execution_count": 6,
   "id": "bb215c63",
   "metadata": {},
   "outputs": [],
   "source": [
    "X = (df.iloc[:, :-1].values - mean)/std\n",
    "y = one_hot_labels.values"
   ]
  },
  {
   "cell_type": "code",
   "execution_count": 7,
   "id": "2e522043",
   "metadata": {},
   "outputs": [],
   "source": [
    "X_train, X_test, y_train, y_test = train_test_split(X, y, test_size=0.1, random_state=42)"
   ]
  },
  {
   "cell_type": "code",
   "execution_count": 8,
   "id": "5b66fc4a",
   "metadata": {},
   "outputs": [],
   "source": [
    "class Sampling(layers.Layer):\n",
    "    \"\"\"Uses (z_mean, z_log_var) to sample z, the vector encoding a digit.\"\"\"\n",
    "\n",
    "    def call(self, inputs):\n",
    "        z_mean, z_log_var = inputs\n",
    "        batch = tf.shape(z_mean)[0]\n",
    "        dim = tf.shape(z_mean)[1]\n",
    "        epsilon = K.random_normal(shape=(batch, dim), stddev=1)\n",
    "        return z_mean + tf.exp(0.5 * z_log_var) * epsilon"
   ]
  },
  {
   "cell_type": "code",
   "execution_count": 9,
   "id": "55446eab",
   "metadata": {},
   "outputs": [],
   "source": [
    "class Intermediate(layers.Layer):\n",
    "\n",
    "    def __init__(self, latent_dim=8, name=\"Intermediate\", **kwargs):\n",
    "        super(Intermediate, self).__init__(name=name, **kwargs)\n",
    "        self.mean = Dense(latent_dim)\n",
    "        self.log_var = Dense(latent_dim)\n",
    "        self.sampling = Sampling()\n",
    "\n",
    "    def call(self, inputs):\n",
    "        z_mean = self.mean(inputs)\n",
    "        z_log_var = self.log_var(inputs)\n",
    "        z = self.sampling((z_mean, z_log_var))\n",
    "        return z_mean, z_log_var, z\n",
    "    \n",
    "    \n",
    "    def get_config(self):\n",
    "        config = super().get_config().copy()\n",
    "        return config"
   ]
  },
  {
   "cell_type": "code",
   "execution_count": 10,
   "id": "24ec0eb2",
   "metadata": {},
   "outputs": [],
   "source": [
    "latent_dim = 8"
   ]
  },
  {
   "cell_type": "code",
   "execution_count": 11,
   "id": "01e84148",
   "metadata": {},
   "outputs": [
    {
     "name": "stdout",
     "output_type": "stream",
     "text": [
      "WARNING:tensorflow:AutoGraph could not transform <bound method Sampling.call of <__main__.Sampling object at 0x7fac50c527d0>> and will run it as-is.\n",
      "Please report this to the TensorFlow team. When filing the bug, set the verbosity to 10 (on Linux, `export AUTOGRAPH_VERBOSITY=10`) and attach the full output.\n",
      "Cause: module 'gast' has no attribute 'Index'\n",
      "To silence this warning, decorate the function with @tf.autograph.experimental.do_not_convert\n",
      "WARNING: AutoGraph could not transform <bound method Sampling.call of <__main__.Sampling object at 0x7fac50c527d0>> and will run it as-is.\n",
      "Please report this to the TensorFlow team. When filing the bug, set the verbosity to 10 (on Linux, `export AUTOGRAPH_VERBOSITY=10`) and attach the full output.\n",
      "Cause: module 'gast' has no attribute 'Index'\n",
      "To silence this warning, decorate the function with @tf.autograph.experimental.do_not_convert\n"
     ]
    }
   ],
   "source": [
    "vae_encoder = load_model('../models/vae_encoder.h5', custom_objects={\"Intermediate\": Intermediate}, compile=False, )"
   ]
  },
  {
   "cell_type": "code",
   "execution_count": 12,
   "id": "1e903deb",
   "metadata": {},
   "outputs": [
    {
     "name": "stdout",
     "output_type": "stream",
     "text": [
      "Model: \"Encoder\"\n",
      "_________________________________________________________________\n",
      "Layer (type)                 Output Shape              Param #   \n",
      "=================================================================\n",
      "Input (InputLayer)           [(None, 23)]              0         \n",
      "_________________________________________________________________\n",
      "latent_model (Sequential)    (None, 64)                47296     \n",
      "_________________________________________________________________\n",
      "Intermediate (Intermediate)  ((None, 8), (None, 8), (N 1040      \n",
      "=================================================================\n",
      "Total params: 48,336\n",
      "Trainable params: 48,336\n",
      "Non-trainable params: 0\n",
      "_________________________________________________________________\n"
     ]
    }
   ],
   "source": [
    "vae_encoder.summary()"
   ]
  },
  {
   "cell_type": "code",
   "execution_count": 47,
   "id": "eb8c0177",
   "metadata": {},
   "outputs": [],
   "source": [
    "vae_encoder.trainable = False"
   ]
  },
  {
   "cell_type": "code",
   "execution_count": 48,
   "id": "35f13cce",
   "metadata": {},
   "outputs": [],
   "source": [
    "inp= Input(shape= (X_train.shape[-1], ), name='Input')\n",
    "z_mean, z_log_var, z = vae_encoder(inp)"
   ]
  },
  {
   "cell_type": "code",
   "execution_count": 49,
   "id": "c8fbb8be",
   "metadata": {},
   "outputs": [],
   "source": [
    "classifier = Sequential([\n",
    "                      Dense(64, input_shape=(latent_dim, ), activation='relu'),\n",
    "                      Dense(32, activation='relu'),\n",
    "\n",
    "                      Dense(y_train.shape[-1], activation='softmax')\n",
    "], name='Classifier')"
   ]
  },
  {
   "cell_type": "code",
   "execution_count": 50,
   "id": "97bfade2",
   "metadata": {},
   "outputs": [
    {
     "name": "stdout",
     "output_type": "stream",
     "text": [
      "Model: \"Classifier\"\n",
      "_________________________________________________________________\n",
      "Layer (type)                 Output Shape              Param #   \n",
      "=================================================================\n",
      "dense_5 (Dense)              (None, 64)                576       \n",
      "_________________________________________________________________\n",
      "dense_6 (Dense)              (None, 32)                2080      \n",
      "_________________________________________________________________\n",
      "dense_7 (Dense)              (None, 14)                462       \n",
      "=================================================================\n",
      "Total params: 3,118\n",
      "Trainable params: 3,118\n",
      "Non-trainable params: 0\n",
      "_________________________________________________________________\n"
     ]
    }
   ],
   "source": [
    "classifier.summary()"
   ]
  },
  {
   "cell_type": "code",
   "execution_count": 51,
   "id": "86e929f9",
   "metadata": {},
   "outputs": [],
   "source": [
    "classifier = load_model('../models/classifier.h5', compile=False, )"
   ]
  },
  {
   "cell_type": "code",
   "execution_count": 52,
   "id": "efc31990",
   "metadata": {},
   "outputs": [],
   "source": [
    "full_model = Model(inputs = inp, outputs = classifier(z), name = 'full_model')"
   ]
  },
  {
   "cell_type": "code",
   "execution_count": 53,
   "id": "34d545b6",
   "metadata": {},
   "outputs": [
    {
     "name": "stdout",
     "output_type": "stream",
     "text": [
      "Model: \"full_model\"\n",
      "_________________________________________________________________\n",
      "Layer (type)                 Output Shape              Param #   \n",
      "=================================================================\n",
      "Input (InputLayer)           [(None, 23)]              0         \n",
      "_________________________________________________________________\n",
      "Encoder (Functional)         [(None, 8), (None, 8), (N 48336     \n",
      "_________________________________________________________________\n",
      "Classifier (Sequential)      (None, 14)                3118      \n",
      "=================================================================\n",
      "Total params: 51,454\n",
      "Trainable params: 3,118\n",
      "Non-trainable params: 48,336\n",
      "_________________________________________________________________\n"
     ]
    }
   ],
   "source": [
    "full_model.summary()"
   ]
  },
  {
   "cell_type": "code",
   "execution_count": 70,
   "id": "db737796",
   "metadata": {},
   "outputs": [],
   "source": [
    "full_model.compile(optimizer='adam',\n",
    "              loss='categorical_crossentropy',\n",
    "              metrics=['accuracy'])"
   ]
  },
  {
   "cell_type": "code",
   "execution_count": 76,
   "id": "ae684793",
   "metadata": {},
   "outputs": [
    {
     "name": "stdout",
     "output_type": "stream",
     "text": [
      "Epoch 1/100\n",
      "2/2 [==============================] - 0s 4ms/step - loss: 0.3031 - accuracy: 0.8805\n",
      "Epoch 2/100\n",
      "2/2 [==============================] - 0s 3ms/step - loss: 0.3026 - accuracy: 0.8835\n",
      "Epoch 3/100\n",
      "2/2 [==============================] - 0s 3ms/step - loss: 0.3028 - accuracy: 0.8818\n",
      "Epoch 4/100\n",
      "2/2 [==============================] - 0s 6ms/step - loss: 0.3031 - accuracy: 0.8797\n",
      "Epoch 5/100\n",
      "2/2 [==============================] - 0s 3ms/step - loss: 0.3030 - accuracy: 0.8819\n",
      "Epoch 6/100\n",
      "2/2 [==============================] - 0s 5ms/step - loss: 0.3030 - accuracy: 0.8833\n",
      "Epoch 7/100\n",
      "2/2 [==============================] - 0s 3ms/step - loss: 0.3031 - accuracy: 0.8824\n",
      "Epoch 8/100\n",
      "2/2 [==============================] - 0s 4ms/step - loss: 0.3027 - accuracy: 0.8795\n",
      "Epoch 9/100\n",
      "2/2 [==============================] - 0s 4ms/step - loss: 0.3028 - accuracy: 0.8830\n",
      "Epoch 10/100\n",
      "2/2 [==============================] - 0s 3ms/step - loss: 0.3026 - accuracy: 0.8828\n",
      "Epoch 11/100\n",
      "2/2 [==============================] - 0s 9ms/step - loss: 0.3026 - accuracy: 0.8806\n",
      "Epoch 12/100\n",
      "2/2 [==============================] - 0s 4ms/step - loss: 0.3026 - accuracy: 0.8809\n",
      "Epoch 13/100\n",
      "2/2 [==============================] - 0s 4ms/step - loss: 0.3022 - accuracy: 0.8821\n",
      "Epoch 14/100\n",
      "2/2 [==============================] - 0s 3ms/step - loss: 0.3025 - accuracy: 0.8830\n",
      "Epoch 15/100\n",
      "2/2 [==============================] - 0s 4ms/step - loss: 0.3025 - accuracy: 0.8827\n",
      "Epoch 16/100\n",
      "2/2 [==============================] - 0s 4ms/step - loss: 0.3027 - accuracy: 0.8826\n",
      "Epoch 17/100\n",
      "2/2 [==============================] - 0s 4ms/step - loss: 0.3022 - accuracy: 0.8822\n",
      "Epoch 18/100\n",
      "2/2 [==============================] - 0s 4ms/step - loss: 0.3025 - accuracy: 0.8835\n",
      "Epoch 19/100\n",
      "2/2 [==============================] - 0s 6ms/step - loss: 0.3024 - accuracy: 0.8827\n",
      "Epoch 20/100\n",
      "2/2 [==============================] - 0s 4ms/step - loss: 0.3024 - accuracy: 0.8822\n",
      "Epoch 21/100\n",
      "2/2 [==============================] - 0s 3ms/step - loss: 0.3022 - accuracy: 0.8828\n",
      "Epoch 22/100\n",
      "2/2 [==============================] - 0s 4ms/step - loss: 0.3025 - accuracy: 0.8818\n",
      "Epoch 23/100\n",
      "2/2 [==============================] - 0s 4ms/step - loss: 0.3027 - accuracy: 0.8838\n",
      "Epoch 24/100\n",
      "2/2 [==============================] - 0s 3ms/step - loss: 0.3021 - accuracy: 0.8830\n",
      "Epoch 25/100\n",
      "2/2 [==============================] - 0s 4ms/step - loss: 0.3024 - accuracy: 0.8802\n",
      "Epoch 26/100\n",
      "2/2 [==============================] - 0s 3ms/step - loss: 0.3025 - accuracy: 0.8818\n",
      "Epoch 27/100\n",
      "2/2 [==============================] - 0s 3ms/step - loss: 0.3021 - accuracy: 0.8821\n",
      "Epoch 28/100\n",
      "2/2 [==============================] - 0s 4ms/step - loss: 0.3024 - accuracy: 0.8827\n",
      "Epoch 29/100\n",
      "2/2 [==============================] - 0s 3ms/step - loss: 0.3022 - accuracy: 0.8819\n",
      "Epoch 30/100\n",
      "2/2 [==============================] - 0s 3ms/step - loss: 0.3024 - accuracy: 0.8830\n",
      "Epoch 31/100\n",
      "2/2 [==============================] - 0s 4ms/step - loss: 0.3023 - accuracy: 0.8819\n",
      "Epoch 32/100\n",
      "2/2 [==============================] - 0s 4ms/step - loss: 0.3020 - accuracy: 0.8827\n",
      "Epoch 33/100\n",
      "2/2 [==============================] - 0s 5ms/step - loss: 0.3023 - accuracy: 0.8829\n",
      "Epoch 34/100\n",
      "2/2 [==============================] - 0s 6ms/step - loss: 0.3022 - accuracy: 0.8828\n",
      "Epoch 35/100\n",
      "2/2 [==============================] - 0s 3ms/step - loss: 0.3024 - accuracy: 0.8809\n",
      "Epoch 36/100\n",
      "2/2 [==============================] - 0s 3ms/step - loss: 0.3024 - accuracy: 0.8827\n",
      "Epoch 37/100\n",
      "2/2 [==============================] - 0s 5ms/step - loss: 0.3024 - accuracy: 0.8840\n",
      "Epoch 38/100\n",
      "2/2 [==============================] - 0s 5ms/step - loss: 0.3031 - accuracy: 0.8801\n",
      "Epoch 39/100\n",
      "2/2 [==============================] - 0s 4ms/step - loss: 0.3022 - accuracy: 0.8828\n",
      "Epoch 40/100\n",
      "2/2 [==============================] - 0s 3ms/step - loss: 0.3024 - accuracy: 0.8820\n",
      "Epoch 41/100\n",
      "2/2 [==============================] - 0s 4ms/step - loss: 0.3021 - accuracy: 0.8826\n",
      "Epoch 42/100\n",
      "2/2 [==============================] - 0s 3ms/step - loss: 0.3023 - accuracy: 0.8823\n",
      "Epoch 43/100\n",
      "2/2 [==============================] - 0s 3ms/step - loss: 0.3020 - accuracy: 0.8830\n",
      "Epoch 44/100\n",
      "2/2 [==============================] - 0s 3ms/step - loss: 0.3025 - accuracy: 0.8825\n",
      "Epoch 45/100\n",
      "2/2 [==============================] - 0s 3ms/step - loss: 0.3020 - accuracy: 0.8822\n",
      "Epoch 46/100\n",
      "2/2 [==============================] - 0s 4ms/step - loss: 0.3021 - accuracy: 0.8824\n",
      "Epoch 47/100\n",
      "2/2 [==============================] - 0s 3ms/step - loss: 0.3025 - accuracy: 0.8818\n",
      "Epoch 48/100\n",
      "2/2 [==============================] - 0s 8ms/step - loss: 0.3021 - accuracy: 0.8825\n",
      "Epoch 49/100\n",
      "2/2 [==============================] - 0s 4ms/step - loss: 0.3021 - accuracy: 0.8826\n",
      "Epoch 50/100\n",
      "2/2 [==============================] - 0s 3ms/step - loss: 0.3026 - accuracy: 0.8807\n",
      "Epoch 51/100\n",
      "2/2 [==============================] - 0s 3ms/step - loss: 0.3020 - accuracy: 0.8820\n",
      "Epoch 52/100\n",
      "2/2 [==============================] - 0s 3ms/step - loss: 0.3026 - accuracy: 0.8811\n",
      "Epoch 53/100\n",
      "2/2 [==============================] - 0s 7ms/step - loss: 0.3018 - accuracy: 0.8820\n",
      "Epoch 54/100\n",
      "2/2 [==============================] - 0s 6ms/step - loss: 0.3025 - accuracy: 0.8831\n",
      "Epoch 55/100\n",
      "2/2 [==============================] - 0s 4ms/step - loss: 0.3025 - accuracy: 0.8790\n",
      "Epoch 56/100\n",
      "2/2 [==============================] - 0s 3ms/step - loss: 0.3036 - accuracy: 0.8838\n",
      "Epoch 57/100\n",
      "2/2 [==============================] - 0s 6ms/step - loss: 0.3023 - accuracy: 0.8786\n",
      "Epoch 58/100\n",
      "2/2 [==============================] - 0s 3ms/step - loss: 0.3026 - accuracy: 0.8754\n",
      "Epoch 59/100\n",
      "2/2 [==============================] - 0s 3ms/step - loss: 0.3030 - accuracy: 0.8858\n",
      "Epoch 60/100\n",
      "2/2 [==============================] - 0s 3ms/step - loss: 0.3026 - accuracy: 0.8754\n",
      "Epoch 61/100\n",
      "2/2 [==============================] - 0s 3ms/step - loss: 0.3024 - accuracy: 0.8838\n",
      "Epoch 62/100\n",
      "2/2 [==============================] - 0s 3ms/step - loss: 0.3018 - accuracy: 0.8829\n",
      "Epoch 63/100\n",
      "2/2 [==============================] - 0s 3ms/step - loss: 0.3023 - accuracy: 0.8789\n",
      "Epoch 64/100\n",
      "2/2 [==============================] - 0s 3ms/step - loss: 0.3020 - accuracy: 0.8831\n",
      "Epoch 65/100\n",
      "2/2 [==============================] - 0s 3ms/step - loss: 0.3021 - accuracy: 0.8831\n",
      "Epoch 66/100\n",
      "2/2 [==============================] - 0s 3ms/step - loss: 0.3016 - accuracy: 0.8831\n",
      "Epoch 67/100\n",
      "2/2 [==============================] - 0s 3ms/step - loss: 0.3022 - accuracy: 0.8828\n",
      "Epoch 68/100\n",
      "2/2 [==============================] - 0s 3ms/step - loss: 0.3026 - accuracy: 0.8779\n",
      "Epoch 69/100\n",
      "2/2 [==============================] - 0s 3ms/step - loss: 0.3020 - accuracy: 0.8836\n",
      "Epoch 70/100\n",
      "2/2 [==============================] - 0s 3ms/step - loss: 0.3021 - accuracy: 0.8822\n",
      "Epoch 71/100\n",
      "2/2 [==============================] - 0s 3ms/step - loss: 0.3028 - accuracy: 0.8791\n",
      "Epoch 72/100\n",
      "2/2 [==============================] - 0s 4ms/step - loss: 0.3025 - accuracy: 0.8826\n",
      "Epoch 73/100\n",
      "2/2 [==============================] - 0s 3ms/step - loss: 0.3023 - accuracy: 0.8782\n",
      "Epoch 74/100\n",
      "2/2 [==============================] - 0s 4ms/step - loss: 0.3021 - accuracy: 0.8821\n",
      "Epoch 75/100\n",
      "2/2 [==============================] - 0s 3ms/step - loss: 0.3019 - accuracy: 0.8826\n",
      "Epoch 76/100\n",
      "2/2 [==============================] - 0s 3ms/step - loss: 0.3018 - accuracy: 0.8816\n",
      "Epoch 77/100\n",
      "2/2 [==============================] - 0s 3ms/step - loss: 0.3018 - accuracy: 0.8832\n",
      "Epoch 78/100\n",
      "2/2 [==============================] - 0s 3ms/step - loss: 0.3015 - accuracy: 0.8822\n",
      "Epoch 79/100\n",
      "2/2 [==============================] - 0s 3ms/step - loss: 0.3015 - accuracy: 0.8837\n",
      "Epoch 80/100\n",
      "2/2 [==============================] - 0s 4ms/step - loss: 0.3021 - accuracy: 0.8828\n",
      "Epoch 81/100\n",
      "2/2 [==============================] - 0s 3ms/step - loss: 0.3016 - accuracy: 0.8819\n",
      "Epoch 82/100\n",
      "2/2 [==============================] - 0s 5ms/step - loss: 0.3015 - accuracy: 0.8830\n",
      "Epoch 83/100\n",
      "2/2 [==============================] - 0s 3ms/step - loss: 0.3018 - accuracy: 0.8825\n",
      "Epoch 84/100\n"
     ]
    },
    {
     "name": "stdout",
     "output_type": "stream",
     "text": [
      "2/2 [==============================] - 0s 3ms/step - loss: 0.3016 - accuracy: 0.8831\n",
      "Epoch 85/100\n",
      "2/2 [==============================] - 0s 3ms/step - loss: 0.3015 - accuracy: 0.8833\n",
      "Epoch 86/100\n",
      "2/2 [==============================] - 0s 3ms/step - loss: 0.3015 - accuracy: 0.8818\n",
      "Epoch 87/100\n",
      "2/2 [==============================] - 0s 3ms/step - loss: 0.3015 - accuracy: 0.8832\n",
      "Epoch 88/100\n",
      "2/2 [==============================] - 0s 5ms/step - loss: 0.3014 - accuracy: 0.8833\n",
      "Epoch 89/100\n",
      "2/2 [==============================] - 0s 3ms/step - loss: 0.3017 - accuracy: 0.8803\n",
      "Epoch 90/100\n",
      "2/2 [==============================] - 0s 3ms/step - loss: 0.3016 - accuracy: 0.8825\n",
      "Epoch 91/100\n",
      "2/2 [==============================] - 0s 3ms/step - loss: 0.3021 - accuracy: 0.8825\n",
      "Epoch 92/100\n",
      "2/2 [==============================] - 0s 6ms/step - loss: 0.3018 - accuracy: 0.8841\n",
      "Epoch 93/100\n",
      "2/2 [==============================] - 0s 3ms/step - loss: 0.3017 - accuracy: 0.8827\n",
      "Epoch 94/100\n",
      "2/2 [==============================] - 0s 6ms/step - loss: 0.3017 - accuracy: 0.8818\n",
      "Epoch 95/100\n",
      "2/2 [==============================] - 0s 3ms/step - loss: 0.3024 - accuracy: 0.8831\n",
      "Epoch 96/100\n",
      "2/2 [==============================] - 0s 3ms/step - loss: 0.3021 - accuracy: 0.8827\n",
      "Epoch 97/100\n",
      "2/2 [==============================] - 0s 4ms/step - loss: 0.3015 - accuracy: 0.8828\n",
      "Epoch 98/100\n",
      "2/2 [==============================] - 0s 3ms/step - loss: 0.3018 - accuracy: 0.8825\n",
      "Epoch 99/100\n",
      "2/2 [==============================] - 0s 3ms/step - loss: 0.3017 - accuracy: 0.8833\n",
      "Epoch 100/100\n",
      "2/2 [==============================] - 0s 3ms/step - loss: 0.3015 - accuracy: 0.8833\n"
     ]
    },
    {
     "data": {
      "text/plain": [
       "<tensorflow.python.keras.callbacks.History at 0x7fabe00c4350>"
      ]
     },
     "execution_count": 76,
     "metadata": {},
     "output_type": "execute_result"
    }
   ],
   "source": [
    "full_model.fit(X_train, y_train, batch_size= 10000, epochs= 100)"
   ]
  },
  {
   "cell_type": "code",
   "execution_count": 22,
   "id": "8d7caa6e",
   "metadata": {},
   "outputs": [],
   "source": [
    "vae_encoder.trainable = True\n",
    "full_model.compile(optimizer='adam',\n",
    "              loss='categorical_crossentropy',\n",
    "              metrics=['accuracy'])"
   ]
  },
  {
   "cell_type": "code",
   "execution_count": 23,
   "id": "76d447f2",
   "metadata": {},
   "outputs": [
    {
     "name": "stdout",
     "output_type": "stream",
     "text": [
      "Epoch 1/10\n",
      "2/2 [==============================] - 0s 5ms/step - loss: 1.2862 - accuracy: 0.7406\n",
      "Epoch 2/10\n",
      "2/2 [==============================] - 0s 6ms/step - loss: 2.0250 - accuracy: 0.6558\n",
      "Epoch 3/10\n",
      "2/2 [==============================] - 0s 4ms/step - loss: 1.5482 - accuracy: 0.6391\n",
      "Epoch 4/10\n",
      "2/2 [==============================] - 0s 5ms/step - loss: 1.4293 - accuracy: 0.6356\n",
      "Epoch 5/10\n",
      "2/2 [==============================] - 0s 5ms/step - loss: 1.2235 - accuracy: 0.6888\n",
      "Epoch 6/10\n",
      "2/2 [==============================] - 0s 5ms/step - loss: 1.0482 - accuracy: 0.7033\n",
      "Epoch 7/10\n",
      "2/2 [==============================] - 0s 4ms/step - loss: 0.9351 - accuracy: 0.7201\n",
      "Epoch 8/10\n",
      "2/2 [==============================] - 0s 4ms/step - loss: 0.8422 - accuracy: 0.7425\n",
      "Epoch 9/10\n",
      "2/2 [==============================] - 0s 4ms/step - loss: 0.7558 - accuracy: 0.7595\n",
      "Epoch 10/10\n",
      "2/2 [==============================] - 0s 4ms/step - loss: 0.7130 - accuracy: 0.7531\n"
     ]
    },
    {
     "data": {
      "text/plain": [
       "<tensorflow.python.keras.callbacks.History at 0x7fac50bb2290>"
      ]
     },
     "execution_count": 23,
     "metadata": {},
     "output_type": "execute_result"
    }
   ],
   "source": [
    "full_model.fit(X_train, y_train, batch_size= 10000, epochs= 10)"
   ]
  },
  {
   "cell_type": "code",
   "execution_count": 77,
   "id": "603a4745",
   "metadata": {},
   "outputs": [],
   "source": [
    "y_prediction  = np.argmax(full_model(X_test), axis=1)"
   ]
  },
  {
   "cell_type": "code",
   "execution_count": 78,
   "id": "b9851925",
   "metadata": {},
   "outputs": [],
   "source": [
    "y_test2 = np.argmax( y_test, axis=1)"
   ]
  },
  {
   "cell_type": "code",
   "execution_count": 79,
   "id": "22634803",
   "metadata": {},
   "outputs": [
    {
     "data": {
      "text/plain": [
       "0.744136460554371"
      ]
     },
     "execution_count": 79,
     "metadata": {},
     "output_type": "execute_result"
    }
   ],
   "source": [
    "np.sum(y_prediction==y_test2)/len(y_prediction)"
   ]
  },
  {
   "cell_type": "code",
   "execution_count": 85,
   "id": "14229d71",
   "metadata": {},
   "outputs": [],
   "source": [
    "classifier.save('../models/classifier.h5')\n",
    "vae_encoder.save('../models/vae_encoder.h5')"
   ]
  },
  {
   "cell_type": "code",
   "execution_count": 86,
   "id": "73c57cf7",
   "metadata": {},
   "outputs": [],
   "source": [
    "from sklearn.metrics import confusion_matrix\n",
    "import seaborn as sns"
   ]
  },
  {
   "cell_type": "code",
   "execution_count": 87,
   "id": "f121427c",
   "metadata": {},
   "outputs": [],
   "source": [
    "M = confusion_matrix( y_test2, y_prediction, normalize='true')"
   ]
  },
  {
   "cell_type": "code",
   "execution_count": 88,
   "id": "3e24268d",
   "metadata": {},
   "outputs": [],
   "source": [
    "class_names = one_hot_labels.columns"
   ]
  },
  {
   "cell_type": "code",
   "execution_count": 89,
   "id": "159159eb",
   "metadata": {},
   "outputs": [
    {
     "data": {
      "text/plain": [
       "Text(69.0, 0.5, 'True label')"
      ]
     },
     "execution_count": 89,
     "metadata": {},
     "output_type": "execute_result"
    },
    {
     "data": {
      "image/png": "[encoded data removed]",
      "text/plain": [
       "<Figure size 720x720 with 1 Axes>"
      ]
     },
     "metadata": {
      "needs_background": "light"
     },
     "output_type": "display_data"
    }
   ],
   "source": [
    "plt.figure(figsize=(10, 10))\n",
    "sns.heatmap(M, xticklabels=class_names, yticklabels=class_names, cbar=False, cmap='Blues', annot=True, )\n",
    "plt.xlabel('Predicted')\n",
    "plt.ylabel('True label')"
   ]
  },
  {
   "cell_type": "code",
   "execution_count": null,
   "id": "224f25ab",
   "metadata": {},
   "outputs": [],
   "source": []
  }
 ],
 "metadata": {
  "kernelspec": {
   "display_name": "Python 3",
   "language": "python",
   "name": "python3"
  },
  "language_info": {
   "codemirror_mode": {
    "name": "ipython",
    "version": 3
   },
   "file_extension": ".py",
   "mimetype": "text/x-python",
   "name": "python",
   "nbconvert_exporter": "python",
   "pygments_lexer": "ipython3",
   "version": "3.7.10"
  }
 },
 "nbformat": 4,
 "nbformat_minor": 5
}
