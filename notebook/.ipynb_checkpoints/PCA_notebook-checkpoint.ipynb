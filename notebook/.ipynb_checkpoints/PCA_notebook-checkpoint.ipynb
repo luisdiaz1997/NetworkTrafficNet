{
 "cells": [
  {
   "cell_type": "code",
   "execution_count": 1,
   "metadata": {
    "colab": {
     "base_uri": "https://localhost:8080/",
     "height": 224
    },
    "id": "MxHa9GKgQQkA",
    "outputId": "ff078a3e-cf0f-41ab-e495-cedb50dce1fb"
   },
   "outputs": [],
   "source": [
    "from scipy.io import arff\n",
    "import pandas as pd\n",
    "import matplotlib.pyplot as plt\n",
    "import matplotlib.colors as colors\n",
    "import matplotlib.cm as cmx\n",
    "from sklearn.decomposition import PCA, IncrementalPCA"
   ]
  },
  {
   "cell_type": "code",
   "execution_count": 2,
   "metadata": {},
   "outputs": [
    {
     "data": {
      "text/html": [
       "<div>\n",
       "<style scoped>\n",
       "    .dataframe tbody tr th:only-of-type {\n",
       "        vertical-align: middle;\n",
       "    }\n",
       "\n",
       "    .dataframe tbody tr th {\n",
       "        vertical-align: top;\n",
       "    }\n",
       "\n",
       "    .dataframe thead th {\n",
       "        text-align: right;\n",
       "    }\n",
       "</style>\n",
       "<table border=\"1\" class=\"dataframe\">\n",
       "  <thead>\n",
       "    <tr style=\"text-align: right;\">\n",
       "      <th></th>\n",
       "      <th>duration</th>\n",
       "      <th>total_fiat</th>\n",
       "      <th>total_biat</th>\n",
       "      <th>min_fiat</th>\n",
       "      <th>min_biat</th>\n",
       "      <th>max_fiat</th>\n",
       "      <th>max_biat</th>\n",
       "      <th>mean_fiat</th>\n",
       "      <th>mean_biat</th>\n",
       "      <th>flowPktsPerSecond</th>\n",
       "      <th>...</th>\n",
       "      <th>std_flowiat</th>\n",
       "      <th>min_active</th>\n",
       "      <th>mean_active</th>\n",
       "      <th>max_active</th>\n",
       "      <th>std_active</th>\n",
       "      <th>min_idle</th>\n",
       "      <th>mean_idle</th>\n",
       "      <th>max_idle</th>\n",
       "      <th>std_idle</th>\n",
       "      <th>class1</th>\n",
       "    </tr>\n",
       "  </thead>\n",
       "  <tbody>\n",
       "    <tr>\n",
       "      <th>0</th>\n",
       "      <td>9368711.0</td>\n",
       "      <td>16.0</td>\n",
       "      <td>4.0</td>\n",
       "      <td>1564818.0</td>\n",
       "      <td>1549373.0</td>\n",
       "      <td>190205.285714</td>\n",
       "      <td>203290.456522</td>\n",
       "      <td>389822.391917</td>\n",
       "      <td>370323.719754</td>\n",
       "      <td>10.353612</td>\n",
       "      <td>...</td>\n",
       "      <td>267600.198443</td>\n",
       "      <td>1871488.0</td>\n",
       "      <td>1.983656e+06</td>\n",
       "      <td>2195089.0</td>\n",
       "      <td>1.832197e+05</td>\n",
       "      <td>1234883.0</td>\n",
       "      <td>1420565.0</td>\n",
       "      <td>1523088.0</td>\n",
       "      <td>161096.539275</td>\n",
       "      <td>b'CHAT'</td>\n",
       "    </tr>\n",
       "    <tr>\n",
       "      <th>1</th>\n",
       "      <td>7340238.0</td>\n",
       "      <td>18.0</td>\n",
       "      <td>4.0</td>\n",
       "      <td>1567554.0</td>\n",
       "      <td>1527893.0</td>\n",
       "      <td>165686.977273</td>\n",
       "      <td>186914.846154</td>\n",
       "      <td>317267.548742</td>\n",
       "      <td>304370.651301</td>\n",
       "      <td>11.580006</td>\n",
       "      <td>...</td>\n",
       "      <td>221462.862028</td>\n",
       "      <td>1491627.0</td>\n",
       "      <td>3.572433e+06</td>\n",
       "      <td>5653239.0</td>\n",
       "      <td>2.942704e+06</td>\n",
       "      <td>1131498.0</td>\n",
       "      <td>1324636.0</td>\n",
       "      <td>1517774.0</td>\n",
       "      <td>273138.379008</td>\n",
       "      <td>b'CHAT'</td>\n",
       "    </tr>\n",
       "    <tr>\n",
       "      <th>2</th>\n",
       "      <td>4644225.0</td>\n",
       "      <td>29.0</td>\n",
       "      <td>15.0</td>\n",
       "      <td>1270547.0</td>\n",
       "      <td>1079974.0</td>\n",
       "      <td>165865.178571</td>\n",
       "      <td>195302.130435</td>\n",
       "      <td>329473.126261</td>\n",
       "      <td>300492.588227</td>\n",
       "      <td>11.412022</td>\n",
       "      <td>...</td>\n",
       "      <td>217475.425246</td>\n",
       "      <td>1758922.0</td>\n",
       "      <td>1.758922e+06</td>\n",
       "      <td>1758922.0</td>\n",
       "      <td>0.000000e+00</td>\n",
       "      <td>1079974.0</td>\n",
       "      <td>1079974.0</td>\n",
       "      <td>1079974.0</td>\n",
       "      <td>0.000000</td>\n",
       "      <td>b'CHAT'</td>\n",
       "    </tr>\n",
       "    <tr>\n",
       "      <th>3</th>\n",
       "      <td>4978735.0</td>\n",
       "      <td>19.0</td>\n",
       "      <td>8.0</td>\n",
       "      <td>2492050.0</td>\n",
       "      <td>2457286.0</td>\n",
       "      <td>239543.250000</td>\n",
       "      <td>276596.388889</td>\n",
       "      <td>612435.304238</td>\n",
       "      <td>628339.573544</td>\n",
       "      <td>8.034169</td>\n",
       "      <td>...</td>\n",
       "      <td>436959.716436</td>\n",
       "      <td>1710925.0</td>\n",
       "      <td>2.382905e+06</td>\n",
       "      <td>3054885.0</td>\n",
       "      <td>9.503232e+05</td>\n",
       "      <td>1346073.0</td>\n",
       "      <td>1894031.5</td>\n",
       "      <td>2441990.0</td>\n",
       "      <td>774930.342317</td>\n",
       "      <td>b'CHAT'</td>\n",
       "    </tr>\n",
       "    <tr>\n",
       "      <th>4</th>\n",
       "      <td>11838189.0</td>\n",
       "      <td>19.0</td>\n",
       "      <td>10.0</td>\n",
       "      <td>3094089.0</td>\n",
       "      <td>3093543.0</td>\n",
       "      <td>243766.500000</td>\n",
       "      <td>295954.725000</td>\n",
       "      <td>599721.781709</td>\n",
       "      <td>625632.703972</td>\n",
       "      <td>7.602514</td>\n",
       "      <td>...</td>\n",
       "      <td>436129.639296</td>\n",
       "      <td>1747431.0</td>\n",
       "      <td>2.400446e+06</td>\n",
       "      <td>3240696.0</td>\n",
       "      <td>6.232744e+05</td>\n",
       "      <td>1394455.0</td>\n",
       "      <td>1983227.0</td>\n",
       "      <td>3042717.0</td>\n",
       "      <td>725987.829075</td>\n",
       "      <td>b'CHAT'</td>\n",
       "    </tr>\n",
       "  </tbody>\n",
       "</table>\n",
       "<p>5 rows × 24 columns</p>\n",
       "</div>"
      ],
      "text/plain": [
       "     duration  total_fiat  total_biat   min_fiat   min_biat       max_fiat  \\\n",
       "0   9368711.0        16.0         4.0  1564818.0  1549373.0  190205.285714   \n",
       "1   7340238.0        18.0         4.0  1567554.0  1527893.0  165686.977273   \n",
       "2   4644225.0        29.0        15.0  1270547.0  1079974.0  165865.178571   \n",
       "3   4978735.0        19.0         8.0  2492050.0  2457286.0  239543.250000   \n",
       "4  11838189.0        19.0        10.0  3094089.0  3093543.0  243766.500000   \n",
       "\n",
       "        max_biat      mean_fiat      mean_biat  flowPktsPerSecond  ...  \\\n",
       "0  203290.456522  389822.391917  370323.719754          10.353612  ...   \n",
       "1  186914.846154  317267.548742  304370.651301          11.580006  ...   \n",
       "2  195302.130435  329473.126261  300492.588227          11.412022  ...   \n",
       "3  276596.388889  612435.304238  628339.573544           8.034169  ...   \n",
       "4  295954.725000  599721.781709  625632.703972           7.602514  ...   \n",
       "\n",
       "     std_flowiat  min_active   mean_active  max_active    std_active  \\\n",
       "0  267600.198443   1871488.0  1.983656e+06   2195089.0  1.832197e+05   \n",
       "1  221462.862028   1491627.0  3.572433e+06   5653239.0  2.942704e+06   \n",
       "2  217475.425246   1758922.0  1.758922e+06   1758922.0  0.000000e+00   \n",
       "3  436959.716436   1710925.0  2.382905e+06   3054885.0  9.503232e+05   \n",
       "4  436129.639296   1747431.0  2.400446e+06   3240696.0  6.232744e+05   \n",
       "\n",
       "    min_idle  mean_idle   max_idle       std_idle   class1  \n",
       "0  1234883.0  1420565.0  1523088.0  161096.539275  b'CHAT'  \n",
       "1  1131498.0  1324636.0  1517774.0  273138.379008  b'CHAT'  \n",
       "2  1079974.0  1079974.0  1079974.0       0.000000  b'CHAT'  \n",
       "3  1346073.0  1894031.5  2441990.0  774930.342317  b'CHAT'  \n",
       "4  1394455.0  1983227.0  3042717.0  725987.829075  b'CHAT'  \n",
       "\n",
       "[5 rows x 24 columns]"
      ]
     },
     "execution_count": 2,
     "metadata": {},
     "output_type": "execute_result"
    }
   ],
   "source": [
    "arff_data = arff.loadarff('../data/TimeBasedFeatures-Dataset-15s.arff')\n",
    "df = pd.DataFrame(arff_data[0])\n",
    "df.head()"
   ]
  },
  {
   "cell_type": "code",
   "execution_count": 3,
   "metadata": {},
   "outputs": [],
   "source": [
    "df = df.sample(frac=1)\n"
   ]
  },
  {
   "cell_type": "code",
   "execution_count": 4,
   "metadata": {
    "colab": {
     "base_uri": "https://localhost:8080/",
     "height": 241
    },
    "id": "dPZiEsgcf8D_",
    "outputId": "6f43aaed-2725-4c08-9c00-d8205f94868e"
   },
   "outputs": [
    {
     "data": {
      "text/html": [
       "<div>\n",
       "<style scoped>\n",
       "    .dataframe tbody tr th:only-of-type {\n",
       "        vertical-align: middle;\n",
       "    }\n",
       "\n",
       "    .dataframe tbody tr th {\n",
       "        vertical-align: top;\n",
       "    }\n",
       "\n",
       "    .dataframe thead th {\n",
       "        text-align: right;\n",
       "    }\n",
       "</style>\n",
       "<table border=\"1\" class=\"dataframe\">\n",
       "  <thead>\n",
       "    <tr style=\"text-align: right;\">\n",
       "      <th></th>\n",
       "      <th>duration</th>\n",
       "      <th>total_fiat</th>\n",
       "      <th>total_biat</th>\n",
       "      <th>min_fiat</th>\n",
       "      <th>min_biat</th>\n",
       "      <th>max_fiat</th>\n",
       "      <th>max_biat</th>\n",
       "      <th>mean_fiat</th>\n",
       "      <th>mean_biat</th>\n",
       "      <th>flowPktsPerSecond</th>\n",
       "      <th>...</th>\n",
       "      <th>class1_b'P2P'</th>\n",
       "      <th>class1_b'STREAMING'</th>\n",
       "      <th>class1_b'VOIP'</th>\n",
       "      <th>class1_b'VPN-BROWSING'</th>\n",
       "      <th>class1_b'VPN-CHAT'</th>\n",
       "      <th>class1_b'VPN-FT'</th>\n",
       "      <th>class1_b'VPN-MAIL'</th>\n",
       "      <th>class1_b'VPN-P2P'</th>\n",
       "      <th>class1_b'VPN-STREAMING'</th>\n",
       "      <th>class1_b'VPN-VOIP'</th>\n",
       "    </tr>\n",
       "  </thead>\n",
       "  <tbody>\n",
       "    <tr>\n",
       "      <th>6363</th>\n",
       "      <td>390990.0</td>\n",
       "      <td>153508.0</td>\n",
       "      <td>38.0</td>\n",
       "      <td>153508.0</td>\n",
       "      <td>236805.0</td>\n",
       "      <td>153508.00000</td>\n",
       "      <td>130330.000000</td>\n",
       "      <td>0.000000</td>\n",
       "      <td>120166.926350</td>\n",
       "      <td>15.345661</td>\n",
       "      <td>...</td>\n",
       "      <td>0</td>\n",
       "      <td>0</td>\n",
       "      <td>0</td>\n",
       "      <td>0</td>\n",
       "      <td>1</td>\n",
       "      <td>0</td>\n",
       "      <td>0</td>\n",
       "      <td>0</td>\n",
       "      <td>0</td>\n",
       "      <td>0</td>\n",
       "    </tr>\n",
       "    <tr>\n",
       "      <th>2325</th>\n",
       "      <td>12934.0</td>\n",
       "      <td>-1.0</td>\n",
       "      <td>-1.0</td>\n",
       "      <td>-1.0</td>\n",
       "      <td>-1.0</td>\n",
       "      <td>0.00000</td>\n",
       "      <td>0.000000</td>\n",
       "      <td>0.000000</td>\n",
       "      <td>0.000000</td>\n",
       "      <td>154.631205</td>\n",
       "      <td>...</td>\n",
       "      <td>0</td>\n",
       "      <td>1</td>\n",
       "      <td>0</td>\n",
       "      <td>0</td>\n",
       "      <td>0</td>\n",
       "      <td>0</td>\n",
       "      <td>0</td>\n",
       "      <td>0</td>\n",
       "      <td>0</td>\n",
       "      <td>0</td>\n",
       "    </tr>\n",
       "    <tr>\n",
       "      <th>3224</th>\n",
       "      <td>14990505.0</td>\n",
       "      <td>249.0</td>\n",
       "      <td>111.0</td>\n",
       "      <td>36642.0</td>\n",
       "      <td>27567.0</td>\n",
       "      <td>19109.16199</td>\n",
       "      <td>19109.579082</td>\n",
       "      <td>4388.924833</td>\n",
       "      <td>3569.830471</td>\n",
       "      <td>104.732963</td>\n",
       "      <td>...</td>\n",
       "      <td>0</td>\n",
       "      <td>0</td>\n",
       "      <td>1</td>\n",
       "      <td>0</td>\n",
       "      <td>0</td>\n",
       "      <td>0</td>\n",
       "      <td>0</td>\n",
       "      <td>0</td>\n",
       "      <td>0</td>\n",
       "      <td>0</td>\n",
       "    </tr>\n",
       "    <tr>\n",
       "      <th>15024</th>\n",
       "      <td>1326647.0</td>\n",
       "      <td>3.0</td>\n",
       "      <td>17.0</td>\n",
       "      <td>698432.0</td>\n",
       "      <td>698418.0</td>\n",
       "      <td>65074.40000</td>\n",
       "      <td>61970.523810</td>\n",
       "      <td>163814.168975</td>\n",
       "      <td>156801.685300</td>\n",
       "      <td>32.412541</td>\n",
       "      <td>...</td>\n",
       "      <td>0</td>\n",
       "      <td>0</td>\n",
       "      <td>0</td>\n",
       "      <td>0</td>\n",
       "      <td>0</td>\n",
       "      <td>0</td>\n",
       "      <td>0</td>\n",
       "      <td>0</td>\n",
       "      <td>0</td>\n",
       "      <td>0</td>\n",
       "    </tr>\n",
       "    <tr>\n",
       "      <th>1353</th>\n",
       "      <td>30705.0</td>\n",
       "      <td>5.0</td>\n",
       "      <td>1286.0</td>\n",
       "      <td>24327.0</td>\n",
       "      <td>23960.0</td>\n",
       "      <td>1532.85000</td>\n",
       "      <td>10174.333333</td>\n",
       "      <td>5390.452972</td>\n",
       "      <td>12104.357638</td>\n",
       "      <td>814.199642</td>\n",
       "      <td>...</td>\n",
       "      <td>0</td>\n",
       "      <td>0</td>\n",
       "      <td>0</td>\n",
       "      <td>0</td>\n",
       "      <td>0</td>\n",
       "      <td>0</td>\n",
       "      <td>0</td>\n",
       "      <td>0</td>\n",
       "      <td>0</td>\n",
       "      <td>0</td>\n",
       "    </tr>\n",
       "  </tbody>\n",
       "</table>\n",
       "<p>5 rows × 37 columns</p>\n",
       "</div>"
      ],
      "text/plain": [
       "         duration  total_fiat  total_biat  min_fiat  min_biat      max_fiat  \\\n",
       "6363     390990.0    153508.0        38.0  153508.0  236805.0  153508.00000   \n",
       "2325      12934.0        -1.0        -1.0      -1.0      -1.0       0.00000   \n",
       "3224   14990505.0       249.0       111.0   36642.0   27567.0   19109.16199   \n",
       "15024   1326647.0         3.0        17.0  698432.0  698418.0   65074.40000   \n",
       "1353      30705.0         5.0      1286.0   24327.0   23960.0    1532.85000   \n",
       "\n",
       "            max_biat      mean_fiat      mean_biat  flowPktsPerSecond  ...  \\\n",
       "6363   130330.000000       0.000000  120166.926350          15.345661  ...   \n",
       "2325        0.000000       0.000000       0.000000         154.631205  ...   \n",
       "3224    19109.579082    4388.924833    3569.830471         104.732963  ...   \n",
       "15024   61970.523810  163814.168975  156801.685300          32.412541  ...   \n",
       "1353    10174.333333    5390.452972   12104.357638         814.199642  ...   \n",
       "\n",
       "       class1_b'P2P'  class1_b'STREAMING'  class1_b'VOIP'  \\\n",
       "6363               0                    0               0   \n",
       "2325               0                    1               0   \n",
       "3224               0                    0               1   \n",
       "15024              0                    0               0   \n",
       "1353               0                    0               0   \n",
       "\n",
       "       class1_b'VPN-BROWSING'  class1_b'VPN-CHAT'  class1_b'VPN-FT'  \\\n",
       "6363                        0                   1                 0   \n",
       "2325                        0                   0                 0   \n",
       "3224                        0                   0                 0   \n",
       "15024                       0                   0                 0   \n",
       "1353                        0                   0                 0   \n",
       "\n",
       "       class1_b'VPN-MAIL'  class1_b'VPN-P2P'  class1_b'VPN-STREAMING'  \\\n",
       "6363                    0                  0                        0   \n",
       "2325                    0                  0                        0   \n",
       "3224                    0                  0                        0   \n",
       "15024                   0                  0                        0   \n",
       "1353                    0                  0                        0   \n",
       "\n",
       "       class1_b'VPN-VOIP'  \n",
       "6363                    0  \n",
       "2325                    0  \n",
       "3224                    0  \n",
       "15024                   0  \n",
       "1353                    0  \n",
       "\n",
       "[5 rows x 37 columns]"
      ]
     },
     "execution_count": 4,
     "metadata": {},
     "output_type": "execute_result"
    }
   ],
   "source": [
    "one_hot_data = pd.get_dummies(df, columns=['class1'])\n",
    "one_hot_data.head()"
   ]
  },
  {
   "cell_type": "code",
   "execution_count": 5,
   "metadata": {
    "id": "aO4z39EhgM4R"
   },
   "outputs": [],
   "source": [
    "X = df.iloc[:, :-1].values"
   ]
  },
  {
   "cell_type": "code",
   "execution_count": 6,
   "metadata": {},
   "outputs": [],
   "source": [
    "model1 = PCA(n_components=2)"
   ]
  },
  {
   "cell_type": "code",
   "execution_count": 7,
   "metadata": {},
   "outputs": [
    {
     "data": {
      "text/plain": [
       "PCA(n_components=2)"
      ]
     },
     "execution_count": 7,
     "metadata": {},
     "output_type": "execute_result"
    }
   ],
   "source": [
    "model1.fit(X)"
   ]
  },
  {
   "cell_type": "code",
   "execution_count": 8,
   "metadata": {},
   "outputs": [],
   "source": [
    "prediction1 = model1.transform(X)"
   ]
  },
  {
   "cell_type": "code",
   "execution_count": 9,
   "metadata": {},
   "outputs": [
    {
     "data": {
      "text/plain": [
       "(18758, 2)"
      ]
     },
     "execution_count": 9,
     "metadata": {},
     "output_type": "execute_result"
    }
   ],
   "source": [
    "prediction1.shape"
   ]
  },
  {
   "cell_type": "code",
   "execution_count": 10,
   "metadata": {},
   "outputs": [],
   "source": [
    "hot = plt.get_cmap('Paired')\n",
    "cNorm  = colors.Normalize(vmin=0, vmax=len(df.iloc[:,-1].unique()))\n",
    "scalarMap = cmx.ScalarMappable(norm=cNorm, cmap=hot)"
   ]
  },
  {
   "cell_type": "code",
   "execution_count": 11,
   "metadata": {},
   "outputs": [],
   "source": [
    "def plot_prediction(prediction):\n",
    "    plt.figure(figsize=(10,10))\n",
    "    for i, label in enumerate(df.iloc[:,-1].unique()):\n",
    "        indx = df.iloc[:,-1] == label\n",
    "        plt.scatter(prediction[indx][:,0], prediction[indx][:,1], label=label, color=scalarMap.to_rgba(i))\n",
    "        plt.legend(loc='upper right')\n",
    "\n",
    "    plt.ylabel('PC2')\n",
    "    plt.xlabel('PC1');"
   ]
  },
  {
   "cell_type": "code",
   "execution_count": 12,
   "metadata": {},
   "outputs": [
    {
     "data": {
      "image/png": "[encoded data removed]",
      "text/plain": [
       "<Figure size 720x720 with 1 Axes>"
      ]
     },
     "metadata": {
      "needs_background": "light"
     },
     "output_type": "display_data"
    }
   ],
   "source": [
    "plot_prediction(prediction1)"
   ]
  },
  {
   "cell_type": "code",
   "execution_count": 13,
   "metadata": {},
   "outputs": [],
   "source": [
    "model2 = IncrementalPCA(n_components=2, batch_size=250)\n",
    "model2.fit(X)\n",
    "prediction2 = model2.transform(X)"
   ]
  },
  {
   "cell_type": "code",
   "execution_count": 14,
   "metadata": {},
   "outputs": [
    {
     "data": {
      "image/png": "[encoded data removed]",
      "text/plain": [
       "<Figure size 720x720 with 1 Axes>"
      ]
     },
     "metadata": {
      "needs_background": "light"
     },
     "output_type": "display_data"
    }
   ],
   "source": [
    "plot_prediction(prediction2)"
   ]
  },
  {
   "cell_type": "code",
   "execution_count": null,
   "metadata": {},
   "outputs": [],
   "source": []
  }
 ],
 "metadata": {
  "colab": {
   "collapsed_sections": [],
   "name": "Lothar_notebook.ipynb",
   "provenance": []
  },
  "kernelspec": {
   "display_name": "Python 3",
   "language": "python",
   "name": "python3"
  },
  "language_info": {
   "codemirror_mode": {
    "name": "ipython",
    "version": 3
   },
   "file_extension": ".py",
   "mimetype": "text/x-python",
   "name": "python",
   "nbconvert_exporter": "python",
   "pygments_lexer": "ipython3",
   "version": "3.8.8"
  }
 },
 "nbformat": 4,
 "nbformat_minor": 4
}
